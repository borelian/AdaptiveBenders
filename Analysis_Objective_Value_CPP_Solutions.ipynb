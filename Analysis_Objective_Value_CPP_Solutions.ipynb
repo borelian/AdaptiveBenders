{
 "cells": [
  {
   "cell_type": "code",
   "execution_count": 1,
   "id": "e2619535",
   "metadata": {},
   "outputs": [],
   "source": [
    "import pandas as pd\n",
    "import numpy as np\n"
   ]
  },
  {
   "cell_type": "code",
   "execution_count": 2,
   "id": "465e61b2",
   "metadata": {},
   "outputs": [],
   "source": [
    "from cpp import *"
   ]
  },
  {
   "cell_type": "code",
   "execution_count": 4,
   "id": "e6540783",
   "metadata": {},
   "outputs": [],
   "source": [
    "prob = SCPP('CPP_instances/Electricity-Small/core_nospace.mps', 'CPP_instances/Electricity-Small/stoch_nospace.mps')"
   ]
  },
  {
   "cell_type": "code",
   "execution_count": 70,
   "id": "e4ee7fed",
   "metadata": {},
   "outputs": [],
   "source": [
    "nsimul = 1000000\n",
    "prob.genScenarios(nsimul, seed=11)"
   ]
  },
  {
   "cell_type": "code",
   "execution_count": 71,
   "id": "83d05820",
   "metadata": {},
   "outputs": [
    {
     "name": "stdout",
     "output_type": "stream",
     "text": [
      "Changed value of parameter InfUnbdInfo to 1\n",
      "   Prev: 0  Min: 0  Max: 1  Default: 0\n"
     ]
    }
   ],
   "source": [
    "prob.formulateSP()"
   ]
  },
  {
   "cell_type": "code",
   "execution_count": 72,
   "id": "d5efeb35",
   "metadata": {},
   "outputs": [],
   "source": [
    "solX = np.array([[ 4,  0,  0,  0,  0,  7,  0,  5,  0,  5,  6,  0, 10,  0,  0,  0,  0,  0,  2,  0],\n",
    "[ 3,  0,  0,  0,  0,  6,  0,  4,  0,  4,  5,  0, 11,  0,  0,  0,  0,  0,  3,  0],\n",
    "[ 4,  0,  0,  0,  0,  6,  0,  4,  0,  4,  5,  0, 11,  0,  0,  0,  0,  0,  3,  0],\n",
    "[ 4,  0,  0,  0,  0,  6,  0,  4,  0,  3,  5,  0, 11,  0,  0,  0,  0,  0,  3,  0]])\n"
   ]
  },
  {
   "cell_type": "code",
   "execution_count": 73,
   "id": "71d206de",
   "metadata": {},
   "outputs": [
    {
     "data": {
      "text/plain": [
       "4"
      ]
     },
     "execution_count": 73,
     "metadata": {},
     "output_type": "execute_result"
    }
   ],
   "source": [
    "solX.shape[0]"
   ]
  },
  {
   "cell_type": "code",
   "execution_count": 74,
   "id": "45cbc92e",
   "metadata": {},
   "outputs": [],
   "source": [
    "import scipy.stats\n",
    "def mean_confidence_interval(data, confidence=0.95):\n",
    "    a = 1.0 * np.array(data)\n",
    "    n = len(a)\n",
    "    m, se = np.mean(a), scipy.stats.sem(a)\n",
    "    h = se * scipy.stats.t.ppf((1 + confidence) / 2., n-1)\n",
    "    return m, h"
   ]
  },
  {
   "cell_type": "code",
   "execution_count": 75,
   "id": "7a29f8c4",
   "metadata": {},
   "outputs": [
    {
     "name": "stdout",
     "output_type": "stream",
     "text": [
      "[ 4  0  0  0  0  7  0  5  0  5  6  0 10  0  0  0  0  0  2  0]\n",
      "(-1396.723483283, 0.8013360509411428)\n",
      "[ 3  0  0  0  0  6  0  4  0  4  5  0 11  0  0  0  0  0  3  0]\n",
      "(-1434.8017957339991, 0.7048396897519098)\n",
      "[ 4  0  0  0  0  6  0  4  0  4  5  0 11  0  0  0  0  0  3  0]\n",
      "(-1438.2626934940001, 0.7171431561157608)\n",
      "[ 4  0  0  0  0  6  0  4  0  3  5  0 11  0  0  0  0  0  3  0]\n",
      "(-1438.534044598, 0.7063523831194001)\n"
     ]
    }
   ],
   "source": [
    "for i in range(solX.shape[0]):\n",
    "    prob.SPsetX(solX[i])\n",
    "    print(solX[i])\n",
    "    objs = np.zeros(nsimul)\n",
    "    objFS = np.sum(solX[i]*prob.Objx)\n",
    "    for s in range(nsimul):\n",
    "        out = prob.SPsolve(prob.scens[s,:])\n",
    "        objs[s] = out[1]\n",
    "    print(mean_confidence_interval(objs+objFS))"
   ]
  },
  {
   "cell_type": "code",
   "execution_count": 65,
   "id": "164dba52",
   "metadata": {},
   "outputs": [
    {
     "data": {
      "text/plain": [
       "(-1438.4499179999998, -1445.435007551975, -1431.4648284480245)"
      ]
     },
     "execution_count": 65,
     "metadata": {},
     "output_type": "execute_result"
    }
   ],
   "source": [
    "mean_confidence_interval(objs+objFS)"
   ]
  },
  {
   "cell_type": "code",
   "execution_count": 59,
   "id": "18450b6f",
   "metadata": {},
   "outputs": [
    {
     "data": {
      "text/plain": [
       "(-1563.4426287505762, -850.7872072494233)"
      ]
     },
     "execution_count": 59,
     "metadata": {},
     "output_type": "execute_result"
    }
   ],
   "source": [
    "objFS + np.mean(objs)- np.std(objs), objFS + np.mean(objs)+ np.std(objs)"
   ]
  },
  {
   "cell_type": "code",
   "execution_count": 57,
   "id": "fae1f320",
   "metadata": {},
   "outputs": [
    {
     "data": {
      "text/plain": [
       "array([0.0001, 0.0001, 0.0001, ..., 0.0001, 0.0001, 0.0001])"
      ]
     },
     "execution_count": 57,
     "metadata": {},
     "output_type": "execute_result"
    }
   ],
   "source": [
    "prob.probs"
   ]
  },
  {
   "cell_type": "code",
   "execution_count": null,
   "id": "41f6b218",
   "metadata": {},
   "outputs": [],
   "source": []
  }
 ],
 "metadata": {
  "kernelspec": {
   "display_name": "Python3.9",
   "language": "python",
   "name": "python3.9"
  },
  "language_info": {
   "codemirror_mode": {
    "name": "ipython",
    "version": 3
   },
   "file_extension": ".py",
   "mimetype": "text/x-python",
   "name": "python",
   "nbconvert_exporter": "python",
   "pygments_lexer": "ipython3",
   "version": "3.9.15"
  }
 },
 "nbformat": 4,
 "nbformat_minor": 5
}
